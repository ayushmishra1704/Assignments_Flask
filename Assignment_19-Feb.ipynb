{
 "cells": [
  {
   "cell_type": "code",
   "execution_count": 2,
   "id": "1750d615-1f9a-4ba5-a509-78ae07c81df7",
   "metadata": {},
   "outputs": [
    {
     "data": {
      "text/plain": [
       "\"Q.1. Flask is a micro web frameork which is used in the development of API in other words expose the functions/ methods written in python to the outer world. \\nIt is micro web framework because it doesn't use any tools or library. \\nAdvantages of Flask are:\\n1. It is used for simple web scale projects. \\n2. It offers a built in development server and fast debugger.\\n3.  It is simple to learn.\\n4. It provides flexibility to developers to experiment with their applications.\\n5. It is easily scalable for applications.\""
      ]
     },
     "execution_count": 2,
     "metadata": {},
     "output_type": "execute_result"
    }
   ],
   "source": [
    "\"\"\"Q.1. Flask is a micro web frameork which is used in the development of API in other words expose the functions/ methods written in python to the outer world. \n",
    "It is micro web framework because it doesn't use any tools or library. \n",
    "Advantages of Flask are:\n",
    "1. It is used for simple web scale projects. \n",
    "2. It offers a built in development server and fast debugger.\n",
    "3.  It is simple to learn.\n",
    "4. It provides flexibility to developers to experiment with their applications.\n",
    "5. It is easily scalable for applications.\"\"\""
   ]
  },
  {
   "cell_type": "code",
   "execution_count": 6,
   "id": "906a75cd-b8dd-449b-9aa7-f9b345beba68",
   "metadata": {},
   "outputs": [],
   "source": [
    "\"\"\"Q.2. \"\"\"\n",
    "from flask import Flask\n",
    "\n",
    "app = Flask(__name__)\n",
    "\n",
    "@app.route(\"/\")\n",
    "def hello_world():\n",
    "    return \"<h1>hello_world!!<h1>\"\n",
    "\n",
    "if __name__ == \"__main_\":\n",
    "    app.run(host=\"0.0.0.0\")\n"
   ]
  },
  {
   "cell_type": "code",
   "execution_count": 4,
   "id": "baa9b223-ad6d-4c30-94c9-2286aef517b3",
   "metadata": {},
   "outputs": [],
   "source": [
    "\"\"\"Q.3. App Routing  - @app.route(\"/\") is a decorator function which specify the route to reach the server\n",
    "and access the server where application will be up and running. Applications will be accessed from client side using url.\n",
    "This url will be route to reach server .We use app route to reach the server and access the functions which is always up and running through URL.\"\"\""
   ]
  },
  {
   "cell_type": "code",
   "execution_count": null,
   "id": "54077367-4f55-4128-9529-1e51c5cc5790",
   "metadata": {},
   "outputs": [],
   "source": [
    "\"\"\"Q.4. \"\"\"\n",
    "from flask import Flask\n",
    "\n",
    "app = Flask(__name__)\n",
    "\n",
    "@app.route(\"/welcome\")\n",
    "def Welcome():\n",
    "    return <h1>\"Welcome\"</h1>\n",
    "\n",
    "@app.route(\"/\")\n",
    "def Company_Information():\n",
    "    return \"<h1>Company Name:ABC Corporation</h1> <h1>Location: India</h1> <h1>Contact Detail: 999-999-9999</h1>\"\n",
    "\n",
    "if __name__ ==\"__main__\":\n",
    "    app.run(host=\"0.0.0.0.\")"
   ]
  },
  {
   "cell_type": "code",
   "execution_count": null,
   "id": "6f26938b-86dd-4249-9dd2-9e52d140c990",
   "metadata": {},
   "outputs": [],
   "source": [
    "\"Q.5. url_for() function is used in Flask for URL Building. \" "
   ]
  },
  {
   "cell_type": "code",
   "execution_count": null,
   "id": "6913f07d-9960-4a3a-aa76-4168fa8cc94c",
   "metadata": {},
   "outputs": [],
   "source": [
    "from flask import Flask, render_template, url_for\n",
    "\n",
    "app = Flask(__name__)\n",
    "\n",
    "@app.route(\"/about\")\n",
    "def test():\n",
    "    return \"Welcome to the home page! <a href='{}'>About</a>\".format(url_for('about'))\n",
    "\n",
    "if __name__ == \"__main__\":\n",
    "    app.run(host=\"0.0.0.0\")"
   ]
  }
 ],
 "metadata": {
  "kernelspec": {
   "display_name": "Python 3 (ipykernel)",
   "language": "python",
   "name": "python3"
  },
  "language_info": {
   "codemirror_mode": {
    "name": "ipython",
    "version": 3
   },
   "file_extension": ".py",
   "mimetype": "text/x-python",
   "name": "python",
   "nbconvert_exporter": "python",
   "pygments_lexer": "ipython3",
   "version": "3.10.8"
  }
 },
 "nbformat": 4,
 "nbformat_minor": 5
}
