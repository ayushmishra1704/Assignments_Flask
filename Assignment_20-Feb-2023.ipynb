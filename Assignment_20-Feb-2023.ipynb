{
 "cells": [
  {
   "cell_type": "code",
   "execution_count": null,
   "id": "8c47631a-3d17-4b19-9c34-708a4ff27930",
   "metadata": {},
   "outputs": [],
   "source": [
    "\"\"\"Q.1.\n",
    "GET- GET is a method in Flask which sends the query to the server through url or request data from required server, and it is visible to the user in the URL. Google search is an exammple of Get Method. In Google Search , whatever we search it is visible in url.\n",
    "POST - POST is a method which sends data to the server in a body with send data encrypted. Gmail is one example of POST where userid and password is sent in body and not shown.\"\"\""
   ]
  },
  {
   "cell_type": "code",
   "execution_count": 1,
   "id": "b767b8eb-f62c-42b1-9f10-916036fde652",
   "metadata": {},
   "outputs": [
    {
     "data": {
      "text/plain": [
       "'Q.2.Request is an object that contains all the data sent from client to server. We can recover the data with help of GET/POST method\\nWe are requesting the server to get the data related to query.'"
      ]
     },
     "execution_count": 1,
     "metadata": {},
     "output_type": "execute_result"
    }
   ],
   "source": [
    "\"\"\"Q.2.Request is an object that contains all the data sent from client to server. We can recover the data with help of GET/POST method\n",
    "We are requesting the server to get the data related to query.\"\"\""
   ]
  },
  {
   "cell_type": "code",
   "execution_count": 2,
   "id": "5c191bf7-3021-4eb1-bbd4-d8e8d1a99321",
   "metadata": {},
   "outputs": [
    {
     "data": {
      "text/plain": [
       "'Q.3. A redirect is used in Flask to send the user to a particular URL with a particular status code. This status code identifies the issue.\\nWhen we try to access a server , we request the server and it replies with a particular HTTP status code.\\n'"
      ]
     },
     "execution_count": 2,
     "metadata": {},
     "output_type": "execute_result"
    }
   ],
   "source": [
    "\"\"\"Q.3. A redirect is used in Flask to send the user to a particular URL with a particular status code. This status code identifies the issue.\n",
    "When we try to access a server , we request the server and it replies with a particular HTTP status code.\n",
    "\"\"\""
   ]
  },
  {
   "cell_type": "code",
   "execution_count": null,
   "id": "7c6396e2-6fb2-4ac0-a3c4-2f262381caed",
   "metadata": {},
   "outputs": [],
   "source": [
    "\"\"\"Q.4. Templates are files that contains static data as well as place holders for dynamic data. A template is rendered with specific dynamic data to produce final document.\n",
    "render_template()- Templates are rendered with HTML pages with the help of render_template() with the help of Jinja templating language.  When user requests for a login page, Jinja can respond \n",
    "with HTML template that use many feature like if, for loops that are not available in standard HTML Pages.\n",
    "\"\"\""
   ]
  },
  {
   "cell_type": "code",
   "execution_count": null,
   "id": "72fbfa8e-c210-4c93-8c88-386694d9c81e",
   "metadata": {},
   "outputs": [],
   "source": [
    "from flask import Flask, render_template, request, jsonify\n",
    "\n",
    "app = Flask(__name__)\n",
    "\n",
    "@app.route('/', methods = ['GET', 'POST'])\n",
    "def home_page():\n",
    "    return render_template(\"index.html\")\n",
    "\n",
    "@app.route('/math', methods = ['POST'])\n",
    "def maths_operations():\n",
    "    if (request.method == 'POST'):\n",
    "        ops = request.form['operation']\n",
    "        num1 = int(request.form['num1'])\n",
    "        num2 = int(request.form['num1'])\n",
    "        if (ops == 'add'):\n",
    "            r = num1 + num2\n",
    "            result  = 'The sum of' +str(num1) +'and' +str(num2) +'is' +str(r) \n",
    "        if (ops == 'substract'):\n",
    "            r = num1 - num2\n",
    "            result = 'The difference of' +str(num1) + 'and ' +str(num2) +'is' +str(r)\n",
    "        if (ops == 'mul'):\n",
    "            r = num1 * num2\n",
    "            result = 'The product of' +str(num1) + 'and ' +str(num2) +'is' +str(r)\n",
    "        if (ops == 'divide'):\n",
    "            r = num1 / num2\n",
    "            result = 'The result of' +str(num1) + 'and ' +str(num2) +'is' +str(r)\n",
    "        return render_template('result.html', result  = result)\n",
    "\n",
    "@app.route('/postman_data', methods = ['POST'])\n",
    "def maths_operation():\n",
    "    if (request.method == 'POST'):\n",
    "        ops = request.json['operation']\n",
    "        num1 = int(request.json['num1'])\n",
    "        num2 = int(request.json['num2'])\n",
    "        if (ops == 'add'):\n",
    "            r = num1 + num2\n",
    "            result = 'The sum of' +str(num1) + 'and' +str(num2) + 'is' +str(r)\n",
    "        if (ops == 'substract'):\n",
    "            r = num1 - num2\n",
    "            result = 'The difference of' +str(num1) + 'and ' +str(num2) +'is' +str(r)\n",
    "        if (ops == 'mul'):\n",
    "            r = num1 * num2\n",
    "            result = 'The product of' +str(num1) + 'and ' +str(num2) +'is' +str(r)\n",
    "        if (ops == 'divide'):\n",
    "            r = num1 / num2\n",
    "            result = 'The result of' +str(num1) + 'and ' +str(num2) +'is' +str(r)\n",
    "        \n",
    "        return jsonify(result)\n",
    "\n",
    "if __name__==\"__main__\":\n",
    "    app.run(host=\"0.0.0.0\")\n"
   ]
  }
 ],
 "metadata": {
  "kernelspec": {
   "display_name": "Python 3 (ipykernel)",
   "language": "python",
   "name": "python3"
  },
  "language_info": {
   "codemirror_mode": {
    "name": "ipython",
    "version": 3
   },
   "file_extension": ".py",
   "mimetype": "text/x-python",
   "name": "python",
   "nbconvert_exporter": "python",
   "pygments_lexer": "ipython3",
   "version": "3.10.8"
  }
 },
 "nbformat": 4,
 "nbformat_minor": 5
}
